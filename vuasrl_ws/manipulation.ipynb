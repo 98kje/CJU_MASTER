{
 "cells": [
  {
   "cell_type": "code",
   "execution_count": 1,
   "id": "e38f1a71",
   "metadata": {},
   "outputs": [],
   "source": [
    "import sys\n",
    "import rospy\n",
    "import moveit_commander\n"
   ]
  },
  {
   "cell_type": "code",
   "execution_count": 2,
   "id": "348ab33a",
   "metadata": {},
   "outputs": [
    {
     "data": {
      "text/plain": [
       "['arm', 'gripper']"
      ]
     },
     "execution_count": 2,
     "metadata": {},
     "output_type": "execute_result"
    }
   ],
   "source": [
    "rospy.init_node('test_manipulation', anonymous=True)\n",
    "moveit_commander.roscpp_initialize(sys.argv)\n",
    "\n",
    "robot = moveit_commander.RobotCommander()\n",
    "scene = moveit_commander.PlanningSceneInterface()\n",
    "\n",
    "group_name = robot.get_group_names()\n",
    "group_name"
   ]
  },
  {
   "cell_type": "code",
   "execution_count": 3,
   "id": "322ab9c4",
   "metadata": {},
   "outputs": [
    {
     "data": {
      "text/plain": [
       "joint_state: \n",
       "  header: \n",
       "    seq: 0\n",
       "    stamp: \n",
       "      secs: 0\n",
       "      nsecs:         0\n",
       "    frame_id: \"base_footprint\"\n",
       "  name: \n",
       "    - joint1\n",
       "    - joint2\n",
       "    - joint3\n",
       "    - joint4\n",
       "    - grip_joint\n",
       "    - grip_joint_sub\n",
       "    - lb_base\n",
       "    - lf_base\n",
       "    - rb_base\n",
       "    - rf_base\n",
       "  position: [0.0, 0.0, 0.0, 0.0, 0.0, 0.0, 0.0, 0.0, 0.0, 0.0]\n",
       "  velocity: []\n",
       "  effort: []\n",
       "multi_dof_joint_state: \n",
       "  header: \n",
       "    seq: 0\n",
       "    stamp: \n",
       "      secs: 0\n",
       "      nsecs:         0\n",
       "    frame_id: \"base_footprint\"\n",
       "  joint_names: []\n",
       "  transforms: []\n",
       "  twist: []\n",
       "  wrench: []\n",
       "attached_collision_objects: []\n",
       "is_diff: False"
      ]
     },
     "execution_count": 3,
     "metadata": {},
     "output_type": "execute_result"
    }
   ],
   "source": [
    "robot.get_current_state()\n"
   ]
  },
  {
   "cell_type": "code",
   "execution_count": 24,
   "id": "74d76c84",
   "metadata": {},
   "outputs": [],
   "source": [
    "move_group = moveit_commander.MoveGroupCommander(group_name[0])\n",
    "move_group.set_named_target('home')\n",
    "success, trajectory, _, _ = move_group.plan()"
   ]
  },
  {
   "cell_type": "code",
   "execution_count": 25,
   "id": "2108add1",
   "metadata": {},
   "outputs": [],
   "source": [
    "if success:\n",
    "    move_group.execute(trajectory, wait=True)\n",
    "else:\n",
    "    print(\"Planning failed!\")"
   ]
  },
  {
   "cell_type": "code",
   "execution_count": 32,
   "id": "028c01a8",
   "metadata": {},
   "outputs": [],
   "source": [
    "def move_joints(move_group, goal):\n",
    "    move_group.go(goal, wait=True)\n",
    "    move_group.stop()\n",
    "    \n",
    "def get_joint_state(move_group):\n",
    "    joint_states = move_group.get_current_joint_values()\n",
    "    print (\"--> current joint state as follows (rad) :\")\n",
    "    print (joint_states)\n",
    "    print (\"--> current joint state as follows (degree) :\")\n",
    "    print ([joint*180./math.pi for joint in joint_states])"
   ]
  },
  {
   "cell_type": "code",
   "execution_count": 35,
   "id": "116c6989",
   "metadata": {},
   "outputs": [
    {
     "name": "stdout",
     "output_type": "stream",
     "text": [
      "--> current joint state as follows (rad) :\n",
      "[0.0, 0.0, 0.0, 0.0]\n",
      "--> current joint state as follows (degree) :\n",
      "[0.0, 0.0, 0.0, 0.0]\n",
      "--> current joint state as follows (rad) :\n",
      "[0.0, 0.0, 0.0, 0.0]\n",
      "--> current joint state as follows (degree) :\n",
      "[0.0, 0.0, 0.0, 0.0]\n"
     ]
    }
   ],
   "source": [
    "import math\n",
    "\n",
    "get_joint_state(move_group)\n",
    "degrees = [50., -0., 20., 50.]\n",
    "goal = ([n*math.pi/180. for n in [50., -0., 40., 90.]])\n",
    "\n",
    "move_joints(move_group, goal)\n",
    "get_joint_state(move_group)"
   ]
  },
  {
   "cell_type": "code",
   "execution_count": 20,
   "id": "41779f40",
   "metadata": {},
   "outputs": [
    {
     "data": {
      "text/plain": [
       "header: \n",
       "  seq: 0\n",
       "  stamp: \n",
       "    secs: 3542\n",
       "    nsecs: 739000000\n",
       "  frame_id: \"base_footprint\"\n",
       "pose: \n",
       "  position: \n",
       "    x: -0.045000000000000005\n",
       "    y: 0.001\n",
       "    z: 0.6779999999999999\n",
       "  orientation: \n",
       "    x: 0.0\n",
       "    y: 0.0\n",
       "    z: 0.0\n",
       "    w: 1.0"
      ]
     },
     "execution_count": 20,
     "metadata": {},
     "output_type": "execute_result"
    }
   ],
   "source": [
    "import geometry_msgs.msg #엔드이펙터 위치자세\n",
    "pose_goal = geometry_msgs.msg.Pose()\n",
    "\n",
    "def get_goal_pose(move_group):\n",
    "    joint_state = move_group.get_current_pose()\n",
    "    return joint_state\n",
    "\n",
    "pose_goal = get_goal_pose(move_group)\n",
    "pose_goal"
   ]
  },
  {
   "cell_type": "code",
   "execution_count": 21,
   "id": "cfda399b",
   "metadata": {},
   "outputs": [
    {
     "data": {
      "text/plain": [
       "x: 0.0\n",
       "y: 0.0\n",
       "z: 0.0\n",
       "w: 1.0"
      ]
     },
     "execution_count": 21,
     "metadata": {},
     "output_type": "execute_result"
    }
   ],
   "source": [
    "pose_goal.pose.orientation"
   ]
  },
  {
   "cell_type": "code",
   "execution_count": 22,
   "id": "5e3a530a",
   "metadata": {},
   "outputs": [
    {
     "data": {
      "text/plain": [
       "[0.0, -0.0, 0.0]"
      ]
     },
     "execution_count": 22,
     "metadata": {},
     "output_type": "execute_result"
    }
   ],
   "source": [
    "import tf\n",
    "\n",
    "quat_angle = tf.transformations.euler_from_quaternion([\n",
    "    pose_goal.pose.orientation.x,\n",
    "    pose_goal.pose.orientation.y,\n",
    "    pose_goal.pose.orientation.z,\n",
    "    pose_goal.pose.orientation.w\n",
    "])\n",
    "\n",
    "[each*180./math.pi for each in quat_angle]"
   ]
  },
  {
   "cell_type": "code",
   "execution_count": 23,
   "id": "f1f046ae",
   "metadata": {},
   "outputs": [
    {
     "name": "stdout",
     "output_type": "stream",
     "text": [
      "move failed\n"
     ]
    },
    {
     "name": "stderr",
     "output_type": "stream",
     "text": [
      "[WARN] [1694411692.536465, 3582.943000]: Move failed!\n"
     ]
    }
   ],
   "source": [
    "[p, q, r] = [each*math.pi/180. for each in [0., 0., 30.]]\n",
    "\n",
    "x, y, z, w = tf.transformations.quaternion_from_euler(p, q, r)\n",
    "\n",
    "pose_goal.pose.orientation.x = x\n",
    "pose_goal.pose.orientation.y = y\n",
    "pose_goal.pose.orientation.z = z\n",
    "pose_goal.pose.orientation.w = w\n",
    "\n",
    "\n",
    "move_group.set_pose_target(pose_goal)\n",
    "move_group.set_goal_orientation_tolerance(0.1)  # Adjust as needed\n",
    "move_group.set_goal_position_tolerance(0.1)\n",
    "move_group.set_planning_time(40.0) \n",
    "success = move_group.go(wait=True)\n",
    "if success:\n",
    "    rospy.loginfo(\"Move successful!\")\n",
    "    print(\"move suc\")\n",
    "else:\n",
    "    rospy.logwarn(\"Move failed!\")\n",
    "    print(\"move failed\")\n",
    "move_group.stop()\n",
    "move_group.clear_pose_targets()"
   ]
  },
  {
   "cell_type": "code",
   "execution_count": null,
   "id": "a3bf4767",
   "metadata": {},
   "outputs": [],
   "source": []
  }
 ],
 "metadata": {
  "kernelspec": {
   "display_name": "Python 3 (ipykernel)",
   "language": "python",
   "name": "python3"
  },
  "language_info": {
   "codemirror_mode": {
    "name": "ipython",
    "version": 3
   },
   "file_extension": ".py",
   "mimetype": "text/x-python",
   "name": "python",
   "nbconvert_exporter": "python",
   "pygments_lexer": "ipython3",
   "version": "3.8.10"
  }
 },
 "nbformat": 4,
 "nbformat_minor": 5
}
